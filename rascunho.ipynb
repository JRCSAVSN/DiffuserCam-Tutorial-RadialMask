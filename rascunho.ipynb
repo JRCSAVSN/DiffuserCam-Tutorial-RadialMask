{
 "cells": [
  {
   "cell_type": "code",
   "execution_count": 3,
   "metadata": {},
   "outputs": [],
   "source": [
    "import numpy as np\n",
    "np.save('valid_idx.npy', valid_idx)"
   ]
  },
  {
   "cell_type": "code",
   "execution_count": 8,
   "metadata": {},
   "outputs": [],
   "source": [
    "valid_idx = np.load('valid_idx.npy')"
   ]
  },
  {
   "cell_type": "code",
   "execution_count": 9,
   "metadata": {},
   "outputs": [],
   "source": [
    "dx = len(valid_idx)//5\n",
    "for path_idx, fpath in enumerate(['run1.sh', 'run2.sh', 'run3.sh', 'run4.sh', 'run5.cmd']):\n",
    "    with open(fpath, 'w') as f:\n",
    "        for i in range(dx*path_idx, dx*(path_idx+1)):\n",
    "            if 'cmd' in fpath:\n",
    "                f.write(f'python ADMM_RGB.py --mu1 1e-9 --mu2 1e-7 --mu3 1e-7 --tau 1e-10 --iters 1000 --data_path \"../../Desktop/datasets/LenslessLearning/ground_truth_lensed/im{valid_idx[i]}.npy\" --save_path \"experiments/im{valid_idx[i]}.pkl\"\\n')\n",
    "            else:\n",
    "                f.write(f'python ADMM_RGB.py --mu1 1e-9 --mu2 1e-7 --mu3 1e-7 --tau 1e-10 --iters 1000 --data_path \"../datasets/LenslessLearning/ground_truth_lensed/im{valid_idx[i]}.npy\" --save_path \"experiments/im{valid_idx[i]}.pkl\"\\n')"
   ]
  }
 ],
 "metadata": {
  "kernelspec": {
   "display_name": "Python 3.8.0 ('ML')",
   "language": "python",
   "name": "python3"
  },
  "language_info": {
   "codemirror_mode": {
    "name": "ipython",
    "version": 3
   },
   "file_extension": ".py",
   "mimetype": "text/x-python",
   "name": "python",
   "nbconvert_exporter": "python",
   "pygments_lexer": "ipython3",
   "version": "3.8.0"
  },
  "orig_nbformat": 4,
  "vscode": {
   "interpreter": {
    "hash": "f50a6cf48df0984eb7a685e3631cf6c4472f9c1d89f72612ff0b99f2c2c0945b"
   }
  }
 },
 "nbformat": 4,
 "nbformat_minor": 2
}
